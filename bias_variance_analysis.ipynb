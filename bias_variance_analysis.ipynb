{
 "cells": [
  {
   "cell_type": "code",
   "execution_count": 10,
   "metadata": {},
   "outputs": [
    {
     "name": "stdout",
     "output_type": "stream",
     "text": [
      "1.12.0\n"
     ]
    }
   ],
   "source": [
    "import tensorflow as tf\n",
    "from tensorflow import keras\n",
    "import numpy as np\n",
    "import pandas as pd\n",
    "import matplotlib.pyplot as plt\n",
    "import random\n",
    "\n",
    "print(tf.__version__)"
   ]
  },
  {
   "cell_type": "code",
   "execution_count": 2,
   "metadata": {},
   "outputs": [],
   "source": [
    "def read_fashion_mnist_dataset():\n",
    "    fashion_mnist = keras.datasets.fashion_mnist\n",
    "    (train_images, train_labels), (test_images, test_labels) = fashion_mnist.load_data()\n",
    "    train_images = train_images / 255.0\n",
    "    test_images = test_images / 255.0\n",
    "    class_names = ['T-shirt/top', 'Trouser', 'Pullover', 'Dress', 'Coat', \n",
    "               'Sandal', 'Shirt', 'Sneaker', 'Bag', 'Ankle boot']\n",
    "    dataset_description = (train_images, train_labels), (test_images, test_labels), class_names\n",
    "    return dataset_description"
   ]
  },
  {
   "cell_type": "code",
   "execution_count": 3,
   "metadata": {},
   "outputs": [],
   "source": [
    "def visualise_fashion_mnist_dataset():\n",
    "    plt.figure(figsize=(10,10))\n",
    "    for i in range(25):\n",
    "        plt.subplot(5,5,i+1)\n",
    "        plt.xticks([])\n",
    "        plt.yticks([])\n",
    "        plt.grid(False)\n",
    "        plt.imshow(train_images[i], cmap=plt.cm.binary)\n",
    "        plt.xlabel(class_names[train_labels[i]])"
   ]
  },
  {
   "cell_type": "code",
   "execution_count": 4,
   "metadata": {},
   "outputs": [],
   "source": [
    "def build_model(input_shape, network_layers, tf_activation_funcs, tf_optimizer, tf_loss, tf_metrics):\n",
    "    assert(len(network_layers) == len(tf_activation_funcs))\n",
    "    \n",
    "    model = keras.Sequential()\n",
    "    \n",
    "    model.add(keras.layers.Flatten(input_shape=input_shape))\n",
    "    \n",
    "    for i in range(len(network_layers)):\n",
    "        model.add(keras.layers.Dense(network_layers[i], activation=tf_activation_funcs[i]))\n",
    "\n",
    "    model.compile(optimizer=tf_optimizer, loss=tf_loss, metrics=tf_metrics)\n",
    "    \n",
    "    return model"
   ]
  },
  {
   "cell_type": "code",
   "execution_count": 5,
   "metadata": {},
   "outputs": [],
   "source": [
    "def plot_image(i, predictions_array, true_label, img):\n",
    "  predictions_array, true_label, img = predictions_array[i], true_label[i], img[i]\n",
    "  plt.grid(False)\n",
    "  plt.xticks([])\n",
    "  plt.yticks([])\n",
    "  \n",
    "  plt.imshow(img, cmap=plt.cm.binary)\n",
    "\n",
    "  predicted_label = np.argmax(predictions_array)\n",
    "  if predicted_label == true_label:\n",
    "    color = 'blue'\n",
    "  else:\n",
    "    color = 'red'\n",
    "  \n",
    "  plt.xlabel(\"{} {:2.0f}% ({})\".format(class_names[predicted_label],\n",
    "                                100*np.max(predictions_array),\n",
    "                                class_names[true_label]),\n",
    "                                color=color)\n",
    "\n",
    "def plot_value_array(i, predictions_array, true_label):\n",
    "  predictions_array, true_label = predictions_array[i], true_label[i]\n",
    "  plt.grid(False)\n",
    "  plt.xticks(range(10), class_names, rotation=45)\n",
    "  plt.yticks([])\n",
    "  thisplot = plt.bar(range(10), predictions_array, color=\"#777777\")\n",
    "  plt.ylim([0, 1]) \n",
    "  predicted_label = np.argmax(predictions_array)\n",
    " \n",
    "  thisplot[predicted_label].set_color('red')\n",
    "  thisplot[true_label].set_color('blue')\n"
   ]
  },
  {
   "cell_type": "code",
   "execution_count": 6,
   "metadata": {},
   "outputs": [],
   "source": [
    "def plot_random_predictions(test_images, test_labels, predictions):\n",
    "    index = random.randint(0, test_images.shape[0] - 1)\n",
    "    plt.figure(figsize=(12,6))\n",
    "    plt.subplot(1,2,1)\n",
    "    plot_image(index, predictions, test_labels, test_images)\n",
    "    plt.subplot(1,2,2)\n",
    "    plot_value_array(index, predictions, test_labels)"
   ]
  },
  {
   "cell_type": "code",
   "execution_count": 40,
   "metadata": {},
   "outputs": [],
   "source": [
    "def plot_train_val_curve(hist):\n",
    "    train_loss = hist['loss'].values\n",
    "    val_loss = hist['val_loss'].values\n",
    "    plt.figure(figsize=(12,6))\n",
    "    plt.xlabel(\"epochs\")\n",
    "    plt.ylabel(\"loss\")\n",
    "    plt.plot(train_loss, label=\"train loss\")\n",
    "    plt.plot(val_loss, label=\"val loss\")\n",
    "    plt.legend()"
   ]
  },
  {
   "cell_type": "code",
   "execution_count": 44,
   "metadata": {
    "scrolled": true
   },
   "outputs": [
    {
     "name": "stdout",
     "output_type": "stream",
     "text": [
      "Train Shape: (60000, 28, 28)\n",
      "Train label Shape: (60000,)\n",
      "Test Shape: (10000, 28, 28)\n",
      "Test label Shape: (10000,)\n",
      "Train on 30000 samples, validate on 30000 samples\n",
      "Epoch 1/40\n",
      "30000/30000 [==============================] - 2s 57us/step - loss: 1.3806 - acc: 0.5258 - val_loss: 0.8235 - val_acc: 0.7188\n",
      "Epoch 2/40\n",
      "30000/30000 [==============================] - 1s 45us/step - loss: 0.7097 - acc: 0.7496 - val_loss: 0.6401 - val_acc: 0.7813\n",
      "Epoch 3/40\n",
      "30000/30000 [==============================] - 1s 47us/step - loss: 0.6033 - acc: 0.7905 - val_loss: 0.5839 - val_acc: 0.8010\n",
      "Epoch 4/40\n",
      "30000/30000 [==============================] - 1s 46us/step - loss: 0.5596 - acc: 0.8043 - val_loss: 0.5605 - val_acc: 0.8073\n",
      "Epoch 5/40\n",
      "30000/30000 [==============================] - 1s 46us/step - loss: 0.5325 - acc: 0.8133 - val_loss: 0.5209 - val_acc: 0.8234\n",
      "Epoch 6/40\n",
      "30000/30000 [==============================] - 1s 46us/step - loss: 0.5136 - acc: 0.8203 - val_loss: 0.5789 - val_acc: 0.7866\n",
      "Epoch 7/40\n",
      "30000/30000 [==============================] - 1s 46us/step - loss: 0.4966 - acc: 0.8260 - val_loss: 0.5193 - val_acc: 0.8079\n",
      "Epoch 8/40\n",
      "30000/30000 [==============================] - 1s 47us/step - loss: 0.4825 - acc: 0.8316 - val_loss: 0.5455 - val_acc: 0.7978\n",
      "Epoch 9/40\n",
      "30000/30000 [==============================] - 1s 48us/step - loss: 0.4693 - acc: 0.8358 - val_loss: 0.5080 - val_acc: 0.8205\n",
      "Epoch 10/40\n",
      "30000/30000 [==============================] - 1s 46us/step - loss: 0.4582 - acc: 0.8398 - val_loss: 0.4989 - val_acc: 0.8240\n",
      "Epoch 11/40\n",
      "30000/30000 [==============================] - 1s 46us/step - loss: 0.4497 - acc: 0.8424 - val_loss: 0.4687 - val_acc: 0.8349\n",
      "Epoch 12/40\n",
      "30000/30000 [==============================] - 2s 51us/step - loss: 0.4395 - acc: 0.8453 - val_loss: 0.4767 - val_acc: 0.8333\n",
      "Epoch 13/40\n",
      "30000/30000 [==============================] - 1s 47us/step - loss: 0.4314 - acc: 0.8502 - val_loss: 0.4844 - val_acc: 0.8259\n",
      "Epoch 14/40\n",
      "30000/30000 [==============================] - 1s 46us/step - loss: 0.4230 - acc: 0.8508 - val_loss: 0.4684 - val_acc: 0.8376\n",
      "Epoch 15/40\n",
      "30000/30000 [==============================] - 1s 46us/step - loss: 0.4164 - acc: 0.8534 - val_loss: 0.4466 - val_acc: 0.8485\n",
      "Epoch 16/40\n",
      "30000/30000 [==============================] - 1s 47us/step - loss: 0.4102 - acc: 0.8560 - val_loss: 0.4337 - val_acc: 0.8490\n",
      "Epoch 17/40\n",
      "30000/30000 [==============================] - 1s 47us/step - loss: 0.4036 - acc: 0.8594 - val_loss: 0.4295 - val_acc: 0.8528\n",
      "Epoch 18/40\n",
      "30000/30000 [==============================] - 1s 49us/step - loss: 0.3983 - acc: 0.8594 - val_loss: 0.4208 - val_acc: 0.8544\n",
      "Epoch 19/40\n",
      "30000/30000 [==============================] - 1s 49us/step - loss: 0.3924 - acc: 0.8633 - val_loss: 0.4318 - val_acc: 0.8514\n",
      "Epoch 20/40\n",
      "30000/30000 [==============================] - 2s 51us/step - loss: 0.3870 - acc: 0.8656 - val_loss: 0.4472 - val_acc: 0.8479\n",
      "Epoch 21/40\n",
      "30000/30000 [==============================] - 1s 48us/step - loss: 0.3810 - acc: 0.8663 - val_loss: 0.4372 - val_acc: 0.8501\n",
      "Epoch 22/40\n",
      "30000/30000 [==============================] - 1s 49us/step - loss: 0.3774 - acc: 0.8686 - val_loss: 0.4547 - val_acc: 0.8439\n",
      "Epoch 23/40\n",
      "30000/30000 [==============================] - 1s 47us/step - loss: 0.3727 - acc: 0.8693 - val_loss: 0.4391 - val_acc: 0.8478\n",
      "Epoch 24/40\n",
      "30000/30000 [==============================] - 1s 47us/step - loss: 0.3677 - acc: 0.8688 - val_loss: 0.4327 - val_acc: 0.8491\n",
      "Epoch 25/40\n",
      "30000/30000 [==============================] - 1s 47us/step - loss: 0.3635 - acc: 0.8721 - val_loss: 0.4051 - val_acc: 0.8607\n",
      "Epoch 26/40\n",
      "30000/30000 [==============================] - 1s 47us/step - loss: 0.3602 - acc: 0.8721 - val_loss: 0.4259 - val_acc: 0.8533\n",
      "Epoch 27/40\n",
      "30000/30000 [==============================] - 1s 47us/step - loss: 0.3584 - acc: 0.8745 - val_loss: 0.4426 - val_acc: 0.8496\n",
      "Epoch 28/40\n",
      "30000/30000 [==============================] - 1s 47us/step - loss: 0.3538 - acc: 0.8746 - val_loss: 0.4073 - val_acc: 0.8601\n",
      "Epoch 29/40\n",
      "30000/30000 [==============================] - 1s 47us/step - loss: 0.3516 - acc: 0.8755 - val_loss: 0.4023 - val_acc: 0.8621\n",
      "Epoch 30/40\n",
      "30000/30000 [==============================] - 1s 46us/step - loss: 0.3488 - acc: 0.8766 - val_loss: 0.4358 - val_acc: 0.8493\n",
      "Epoch 31/40\n",
      "30000/30000 [==============================] - 1s 47us/step - loss: 0.3441 - acc: 0.8784 - val_loss: 0.4168 - val_acc: 0.8519\n",
      "Epoch 32/40\n",
      "30000/30000 [==============================] - 1s 48us/step - loss: 0.3404 - acc: 0.8790 - val_loss: 0.4081 - val_acc: 0.8630\n",
      "Epoch 33/40\n",
      "30000/30000 [==============================] - 1s 47us/step - loss: 0.3409 - acc: 0.8776 - val_loss: 0.5087 - val_acc: 0.8174\n",
      "Epoch 34/40\n",
      "30000/30000 [==============================] - 1s 47us/step - loss: 0.3356 - acc: 0.8822 - val_loss: 0.4126 - val_acc: 0.8595\n",
      "Epoch 35/40\n",
      "30000/30000 [==============================] - 1s 47us/step - loss: 0.3340 - acc: 0.8818 - val_loss: 0.3943 - val_acc: 0.8657\n",
      "Epoch 36/40\n",
      "30000/30000 [==============================] - 1s 47us/step - loss: 0.3310 - acc: 0.8814 - val_loss: 0.4277 - val_acc: 0.8536\n",
      "Epoch 37/40\n",
      "30000/30000 [==============================] - 1s 48us/step - loss: 0.3282 - acc: 0.8825 - val_loss: 0.4746 - val_acc: 0.8312\n",
      "Epoch 38/40\n",
      "30000/30000 [==============================] - 1s 46us/step - loss: 0.3260 - acc: 0.8825 - val_loss: 0.3934 - val_acc: 0.8652\n",
      "Epoch 39/40\n",
      "30000/30000 [==============================] - 1s 48us/step - loss: 0.3248 - acc: 0.8848 - val_loss: 0.3961 - val_acc: 0.8625\n",
      "Epoch 40/40\n",
      "30000/30000 [==============================] - 1s 48us/step - loss: 0.3219 - acc: 0.8841 - val_loss: 0.4156 - val_acc: 0.8567\n",
      "10000/10000 [==============================] - 0s 18us/step\n",
      "Test accuracy: 0.8446\n",
      "Test loss: 0.44727633781433107\n"
     ]
    }
   ],
   "source": [
    "dataset_description = read_fashion_mnist_dataset()\n",
    "(train_images, train_labels), (test_images, test_labels), class_names = dataset_description\n",
    "\n",
    "print(\"Train Shape: \" + str(train_images.shape))\n",
    "print(\"Train label Shape: \" + str(train_labels.shape))\n",
    "print(\"Test Shape: \" + str(test_images.shape))\n",
    "print(\"Test label Shape: \" + str(test_labels.shape))\n",
    "\n",
    "# visualise_fashion_mnist_dataset()\n",
    "\n",
    "input_shape = (train_images.shape[1], train_images.shape[2])\n",
    "network_layers = [30, 7, 10]\n",
    "tf_activation_funcs = ['relu', 'relu', 'softmax']\n",
    "tf_optimizer = tf.train.GradientDescentOptimizer(learning_rate=0.01)\n",
    "tf_loss = 'sparse_categorical_crossentropy'\n",
    "tf_metrics = ['accuracy']\n",
    "num_epochs = 40\n",
    "val_split = 0.5\n",
    "\n",
    "model = build_model(input_shape, network_layers, tf_activation_funcs, tf_optimizer, tf_loss, tf_metrics)\n",
    "\n",
    "history = model.fit(train_images, train_labels, epochs=num_epochs, validation_split=val_split)\n",
    "\n",
    "test_loss, test_acc = model.evaluate(test_images, test_labels)\n",
    "print('Test accuracy:', test_acc)\n",
    "print('Test loss:', test_loss)\n",
    "\n",
    "predictions = model.predict(test_images)"
   ]
  },
  {
   "cell_type": "code",
   "execution_count": 45,
   "metadata": {},
   "outputs": [
    {
     "data": {
      "image/png": "[encoded data removed]",
      "text/plain": [
       "<matplotlib.figure.Figure at 0x1473ba3c8>"
      ]
     },
     "metadata": {},
     "output_type": "display_data"
    }
   ],
   "source": [
    "hist = pd.DataFrame(history.history)\n",
    "hist['epoch'] = history.epoch\n",
    "plot_train_val_curve(hist)"
   ]
  },
  {
   "cell_type": "code",
   "execution_count": 94,
   "metadata": {},
   "outputs": [
    {
     "data": {
      "image/png": "[encoded data removed]",
      "text/plain": [
       "<matplotlib.figure.Figure at 0x14a1fee80>"
      ]
     },
     "metadata": {},
     "output_type": "display_data"
    }
   ],
   "source": [
    "plot_random_predictions(test_images, test_labels, predictions)"
   ]
  }
 ],
 "metadata": {
  "kernelspec": {
   "display_name": "Python 3",
   "language": "python",
   "name": "python3"
  },
  "language_info": {
   "codemirror_mode": {
    "name": "ipython",
    "version": 3
   },
   "file_extension": ".py",
   "mimetype": "text/x-python",
   "name": "python",
   "nbconvert_exporter": "python",
   "pygments_lexer": "ipython3",
   "version": "3.6.1"
  }
 },
 "nbformat": 4,
 "nbformat_minor": 2
}
